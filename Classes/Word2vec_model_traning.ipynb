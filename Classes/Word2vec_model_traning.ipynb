{
 "cells": [
  {
   "cell_type": "code",
   "execution_count": 2,
   "metadata": {},
   "outputs": [],
   "source": [
    "import pandas as pd\n",
    "import re\n",
    "import numpy as np"
   ]
  },
  {
   "cell_type": "code",
   "execution_count": 3,
   "metadata": {},
   "outputs": [
    {
     "name": "stderr",
     "output_type": "stream",
     "text": [
      "<ipython-input-3-5e809c225294>:7: SettingWithCopyWarning: \n",
      "A value is trying to be set on a copy of a slice from a DataFrame\n",
      "\n",
      "See the caveats in the documentation: https://pandas.pydata.org/pandas-docs/stable/user_guide/indexing.html#returning-a-view-versus-a-copy\n",
      "  fina_tweets[i] = str(fina_tweets[i]).split(' ')\n"
     ]
    }
   ],
   "source": [
    "fina_tweets =[]\n",
    "\n",
    "final_tweet = pd.read_csv(*Input*)\n",
    "\n",
    "fina_tweets = final_tweet['tweets']\n",
    "for i in range(len(fina_tweets)):\n",
    "    fina_tweets[i] = str(fina_tweets[i]).split(' ')\n",
    "    \n",
    "    \n",
    "final_tweet['tweets'] =fina_tweets"
   ]
  },
  {
   "cell_type": "code",
   "execution_count": 4,
   "metadata": {},
   "outputs": [],
   "source": [
    "from gensim.models.phrases import Phrases, Phraser\n",
    "from gensim.models import Word2Vec\n",
    "from gensim.test.utils import get_tmpfile\n",
    "from gensim.models import KeyedVectors"
   ]
  },
  {
   "cell_type": "code",
   "execution_count": 5,
   "metadata": {},
   "outputs": [],
   "source": [
    "sent = [row for row in final_tweet.tweets]\n",
    "phrases = Phrases(sent, min_count=1, progress_per=50000)\n",
    "bigram = Phraser(phrases)\n",
    "sentences = bigram[sent]\n"
   ]
  },
  {
   "cell_type": "code",
   "execution_count": 1,
   "metadata": {},
   "outputs": [
    {
     "ename": "NameError",
     "evalue": "name 'Word2Vec' is not defined",
     "output_type": "error",
     "traceback": [
      "\u001b[1;31m---------------------------------------------------------------------------\u001b[0m",
      "\u001b[1;31mNameError\u001b[0m                                 Traceback (most recent call last)",
      "Cell \u001b[1;32mIn[1], line 1\u001b[0m\n\u001b[1;32m----> 1\u001b[0m w2v_model \u001b[39m=\u001b[39m Word2Vec(min_count\u001b[39m=\u001b[39m\u001b[39m3\u001b[39m,\n\u001b[0;32m      2\u001b[0m                      window\u001b[39m=\u001b[39m\u001b[39m4\u001b[39m,\n\u001b[0;32m      3\u001b[0m                      size\u001b[39m=\u001b[39m\u001b[39m300\u001b[39m,\n\u001b[0;32m      4\u001b[0m                      sample\u001b[39m=\u001b[39m\u001b[39m1e-5\u001b[39m, \n\u001b[0;32m      5\u001b[0m                      alpha\u001b[39m=\u001b[39m\u001b[39m0.03\u001b[39m, \n\u001b[0;32m      6\u001b[0m                      min_alpha\u001b[39m=\u001b[39m\u001b[39m0.0007\u001b[39m, \n\u001b[0;32m      7\u001b[0m                      negative\u001b[39m=\u001b[39m\u001b[39m20\u001b[39m,\n\u001b[0;32m      8\u001b[0m                      )\n\u001b[0;32m     10\u001b[0m w2v_model\u001b[39m.\u001b[39mbuild_vocab(sentences, progress_per\u001b[39m=\u001b[39m\u001b[39m50000\u001b[39m)\n",
      "\u001b[1;31mNameError\u001b[0m: name 'Word2Vec' is not defined"
     ]
    }
   ],
   "source": [
    "w2v_model = Word2Vec(min_count=3,\n",
    "                     window=4,\n",
    "                     size=300,\n",
    "                     sample=1e-5, \n",
    "                     alpha=0.03, \n",
    "                     min_alpha=0.0007, \n",
    "                     negative=20,\n",
    "                     )\n",
    "\n",
    "w2v_model.build_vocab(sentences, progress_per=50000)"
   ]
  },
  {
   "cell_type": "code",
   "execution_count": 9,
   "metadata": {},
   "outputs": [],
   "source": [
    "w2v_model.train(sentences, total_examples=w2v_model.corpus_count, epochs=100, report_delay=1)\n",
    "w2v_model.init_sims(replace=True)\n"
   ]
  },
  {
   "cell_type": "code",
   "execution_count": 10,
   "metadata": {},
   "outputs": [],
   "source": [
    "w2v_model.save(*output*.model)"
   ]
  },
  {
   "cell_type": "code",
   "execution_count": null,
   "metadata": {},
   "outputs": [],
   "source": []
  },
  {
   "cell_type": "code",
   "execution_count": null,
   "metadata": {},
   "outputs": [],
   "source": []
  },
  {
   "cell_type": "code",
   "execution_count": null,
   "metadata": {},
   "outputs": [],
   "source": []
  },
  {
   "cell_type": "code",
   "execution_count": null,
   "metadata": {},
   "outputs": [],
   "source": []
  },
  {
   "cell_type": "code",
   "execution_count": null,
   "metadata": {},
   "outputs": [],
   "source": []
  },
  {
   "cell_type": "code",
   "execution_count": null,
   "metadata": {},
   "outputs": [],
   "source": []
  },
  {
   "cell_type": "code",
   "execution_count": null,
   "metadata": {},
   "outputs": [],
   "source": []
  }
 ],
 "metadata": {
  "kernelspec": {
   "display_name": "Python 3",
   "language": "python",
   "name": "python3"
  },
  "language_info": {
   "codemirror_mode": {
    "name": "ipython",
    "version": 3
   },
   "file_extension": ".py",
   "mimetype": "text/x-python",
   "name": "python",
   "nbconvert_exporter": "python",
   "pygments_lexer": "ipython3",
   "version": "3.10.7"
  }
 },
 "nbformat": 4,
 "nbformat_minor": 4
}
